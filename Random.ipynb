{
 "cells": [
  {
   "cell_type": "markdown",
   "metadata": {},
   "source": [
    "Importing Required Libraries :"
   ]
  },
  {
   "cell_type": "code",
   "execution_count": 2,
   "metadata": {},
   "outputs": [],
   "source": [
    "import numpy as np\n",
    "import pandas as pd\n",
    "import matplotlib.pyplot as plt\n",
    "from sklearn.ensemble import RandomForestClassifier\n",
    "from sklearn  import metrics\n",
    "from sklearn.model_selection import train_test_split as tt"
   ]
  },
  {
   "cell_type": "code",
   "execution_count": 3,
   "metadata": {},
   "outputs": [],
   "source": [
    "data=pd.read_csv(\"wine.csv\")"
   ]
  },
  {
   "cell_type": "code",
   "execution_count": 4,
   "metadata": {},
   "outputs": [
    {
     "data": {
      "text/html": [
       "<div>\n",
       "<style scoped>\n",
       "    .dataframe tbody tr th:only-of-type {\n",
       "        vertical-align: middle;\n",
       "    }\n",
       "\n",
       "    .dataframe tbody tr th {\n",
       "        vertical-align: top;\n",
       "    }\n",
       "\n",
       "    .dataframe thead th {\n",
       "        text-align: right;\n",
       "    }\n",
       "</style>\n",
       "<table border=\"1\" class=\"dataframe\">\n",
       "  <thead>\n",
       "    <tr style=\"text-align: right;\">\n",
       "      <th></th>\n",
       "      <th>Wine</th>\n",
       "      <th>Alcohol</th>\n",
       "      <th>Malic.acid</th>\n",
       "      <th>Ash</th>\n",
       "      <th>Acl</th>\n",
       "      <th>Mg</th>\n",
       "      <th>Phenols</th>\n",
       "      <th>Flavanoids</th>\n",
       "      <th>Nonflavanoid.phenols</th>\n",
       "      <th>Proanth</th>\n",
       "      <th>Color.int</th>\n",
       "      <th>Hue</th>\n",
       "      <th>OD</th>\n",
       "      <th>Proline</th>\n",
       "    </tr>\n",
       "  </thead>\n",
       "  <tbody>\n",
       "    <tr>\n",
       "      <th>0</th>\n",
       "      <td>1</td>\n",
       "      <td>14.23</td>\n",
       "      <td>1.71</td>\n",
       "      <td>2.43</td>\n",
       "      <td>15.6</td>\n",
       "      <td>127</td>\n",
       "      <td>2.80</td>\n",
       "      <td>3.06</td>\n",
       "      <td>0.28</td>\n",
       "      <td>2.29</td>\n",
       "      <td>5.64</td>\n",
       "      <td>1.04</td>\n",
       "      <td>3.92</td>\n",
       "      <td>1065</td>\n",
       "    </tr>\n",
       "    <tr>\n",
       "      <th>1</th>\n",
       "      <td>1</td>\n",
       "      <td>13.20</td>\n",
       "      <td>1.78</td>\n",
       "      <td>2.14</td>\n",
       "      <td>11.2</td>\n",
       "      <td>100</td>\n",
       "      <td>2.65</td>\n",
       "      <td>2.76</td>\n",
       "      <td>0.26</td>\n",
       "      <td>1.28</td>\n",
       "      <td>4.38</td>\n",
       "      <td>1.05</td>\n",
       "      <td>3.40</td>\n",
       "      <td>1050</td>\n",
       "    </tr>\n",
       "    <tr>\n",
       "      <th>2</th>\n",
       "      <td>1</td>\n",
       "      <td>13.16</td>\n",
       "      <td>2.36</td>\n",
       "      <td>2.67</td>\n",
       "      <td>18.6</td>\n",
       "      <td>101</td>\n",
       "      <td>2.80</td>\n",
       "      <td>3.24</td>\n",
       "      <td>0.30</td>\n",
       "      <td>2.81</td>\n",
       "      <td>5.68</td>\n",
       "      <td>1.03</td>\n",
       "      <td>3.17</td>\n",
       "      <td>1185</td>\n",
       "    </tr>\n",
       "    <tr>\n",
       "      <th>3</th>\n",
       "      <td>1</td>\n",
       "      <td>14.37</td>\n",
       "      <td>1.95</td>\n",
       "      <td>2.50</td>\n",
       "      <td>16.8</td>\n",
       "      <td>113</td>\n",
       "      <td>3.85</td>\n",
       "      <td>3.49</td>\n",
       "      <td>0.24</td>\n",
       "      <td>2.18</td>\n",
       "      <td>7.80</td>\n",
       "      <td>0.86</td>\n",
       "      <td>3.45</td>\n",
       "      <td>1480</td>\n",
       "    </tr>\n",
       "    <tr>\n",
       "      <th>4</th>\n",
       "      <td>1</td>\n",
       "      <td>13.24</td>\n",
       "      <td>2.59</td>\n",
       "      <td>2.87</td>\n",
       "      <td>21.0</td>\n",
       "      <td>118</td>\n",
       "      <td>2.80</td>\n",
       "      <td>2.69</td>\n",
       "      <td>0.39</td>\n",
       "      <td>1.82</td>\n",
       "      <td>4.32</td>\n",
       "      <td>1.04</td>\n",
       "      <td>2.93</td>\n",
       "      <td>735</td>\n",
       "    </tr>\n",
       "  </tbody>\n",
       "</table>\n",
       "</div>"
      ],
      "text/plain": [
       "   Wine  Alcohol  Malic.acid   Ash   Acl   Mg  Phenols  Flavanoids  \\\n",
       "0     1    14.23        1.71  2.43  15.6  127     2.80        3.06   \n",
       "1     1    13.20        1.78  2.14  11.2  100     2.65        2.76   \n",
       "2     1    13.16        2.36  2.67  18.6  101     2.80        3.24   \n",
       "3     1    14.37        1.95  2.50  16.8  113     3.85        3.49   \n",
       "4     1    13.24        2.59  2.87  21.0  118     2.80        2.69   \n",
       "\n",
       "   Nonflavanoid.phenols  Proanth  Color.int   Hue    OD  Proline  \n",
       "0                  0.28     2.29       5.64  1.04  3.92     1065  \n",
       "1                  0.26     1.28       4.38  1.05  3.40     1050  \n",
       "2                  0.30     2.81       5.68  1.03  3.17     1185  \n",
       "3                  0.24     2.18       7.80  0.86  3.45     1480  \n",
       "4                  0.39     1.82       4.32  1.04  2.93      735  "
      ]
     },
     "execution_count": 4,
     "metadata": {},
     "output_type": "execute_result"
    }
   ],
   "source": [
    "data.head()"
   ]
  },
  {
   "cell_type": "code",
   "execution_count": 5,
   "metadata": {},
   "outputs": [],
   "source": [
    "a=data.groupby(\"Wine\")"
   ]
  },
  {
   "cell_type": "code",
   "execution_count": 6,
   "metadata": {},
   "outputs": [
    {
     "name": "stdout",
     "output_type": "stream",
     "text": [
      "1\n",
      "    Wine  Alcohol  Malic.acid   Ash   Acl   Mg  Phenols  Flavanoids  \\\n",
      "0      1    14.23        1.71  2.43  15.6  127     2.80        3.06   \n",
      "1      1    13.20        1.78  2.14  11.2  100     2.65        2.76   \n",
      "2      1    13.16        2.36  2.67  18.6  101     2.80        3.24   \n",
      "3      1    14.37        1.95  2.50  16.8  113     3.85        3.49   \n",
      "4      1    13.24        2.59  2.87  21.0  118     2.80        2.69   \n",
      "5      1    14.20        1.76  2.45  15.2  112     3.27        3.39   \n",
      "6      1    14.39        1.87  2.45  14.6   96     2.50        2.52   \n",
      "7      1    14.06        2.15  2.61  17.6  121     2.60        2.51   \n",
      "8      1    14.83        1.64  2.17  14.0   97     2.80        2.98   \n",
      "9      1    13.86        1.35  2.27  16.0   98     2.98        3.15   \n",
      "10     1    14.10        2.16  2.30  18.0  105     2.95        3.32   \n",
      "11     1    14.12        1.48  2.32  16.8   95     2.20        2.43   \n",
      "12     1    13.75        1.73  2.41  16.0   89     2.60        2.76   \n",
      "13     1    14.75        1.73  2.39  11.4   91     3.10        3.69   \n",
      "14     1    14.38        1.87  2.38  12.0  102     3.30        3.64   \n",
      "15     1    13.63        1.81  2.70  17.2  112     2.85        2.91   \n",
      "16     1    14.30        1.92  2.72  20.0  120     2.80        3.14   \n",
      "17     1    13.83        1.57  2.62  20.0  115     2.95        3.40   \n",
      "18     1    14.19        1.59  2.48  16.5  108     3.30        3.93   \n",
      "19     1    13.64        3.10  2.56  15.2  116     2.70        3.03   \n",
      "20     1    14.06        1.63  2.28  16.0  126     3.00        3.17   \n",
      "21     1    12.93        3.80  2.65  18.6  102     2.41        2.41   \n",
      "22     1    13.71        1.86  2.36  16.6  101     2.61        2.88   \n",
      "23     1    12.85        1.60  2.52  17.8   95     2.48        2.37   \n",
      "24     1    13.50        1.81  2.61  20.0   96     2.53        2.61   \n",
      "25     1    13.05        2.05  3.22  25.0  124     2.63        2.68   \n",
      "26     1    13.39        1.77  2.62  16.1   93     2.85        2.94   \n",
      "27     1    13.30        1.72  2.14  17.0   94     2.40        2.19   \n",
      "28     1    13.87        1.90  2.80  19.4  107     2.95        2.97   \n",
      "29     1    14.02        1.68  2.21  16.0   96     2.65        2.33   \n",
      "30     1    13.73        1.50  2.70  22.5  101     3.00        3.25   \n",
      "31     1    13.58        1.66  2.36  19.1  106     2.86        3.19   \n",
      "32     1    13.68        1.83  2.36  17.2  104     2.42        2.69   \n",
      "33     1    13.76        1.53  2.70  19.5  132     2.95        2.74   \n",
      "34     1    13.51        1.80  2.65  19.0  110     2.35        2.53   \n",
      "35     1    13.48        1.81  2.41  20.5  100     2.70        2.98   \n",
      "36     1    13.28        1.64  2.84  15.5  110     2.60        2.68   \n",
      "37     1    13.05        1.65  2.55  18.0   98     2.45        2.43   \n",
      "38     1    13.07        1.50  2.10  15.5   98     2.40        2.64   \n",
      "39     1    14.22        3.99  2.51  13.2  128     3.00        3.04   \n",
      "40     1    13.56        1.71  2.31  16.2  117     3.15        3.29   \n",
      "41     1    13.41        3.84  2.12  18.8   90     2.45        2.68   \n",
      "42     1    13.88        1.89  2.59  15.0  101     3.25        3.56   \n",
      "43     1    13.24        3.98  2.29  17.5  103     2.64        2.63   \n",
      "44     1    13.05        1.77  2.10  17.0  107     3.00        3.00   \n",
      "45     1    14.21        4.04  2.44  18.9  111     2.85        2.65   \n",
      "46     1    14.38        3.59  2.28  16.0  102     3.25        3.17   \n",
      "47     1    13.90        1.68  2.12  16.0  101     3.10        3.39   \n",
      "48     1    14.10        2.02  2.40  18.8  103     2.75        2.92   \n",
      "49     1    13.94        1.73  2.27  17.4  108     2.88        3.54   \n",
      "50     1    13.05        1.73  2.04  12.4   92     2.72        3.27   \n",
      "51     1    13.83        1.65  2.60  17.2   94     2.45        2.99   \n",
      "52     1    13.82        1.75  2.42  14.0  111     3.88        3.74   \n",
      "53     1    13.77        1.90  2.68  17.1  115     3.00        2.79   \n",
      "54     1    13.74        1.67  2.25  16.4  118     2.60        2.90   \n",
      "55     1    13.56        1.73  2.46  20.5  116     2.96        2.78   \n",
      "56     1    14.22        1.70  2.30  16.3  118     3.20        3.00   \n",
      "57     1    13.29        1.97  2.68  16.8  102     3.00        3.23   \n",
      "58     1    13.72        1.43  2.50  16.7  108     3.40        3.67   \n",
      "\n",
      "    Nonflavanoid.phenols  Proanth  Color.int   Hue    OD  Proline  \n",
      "0                   0.28     2.29       5.64  1.04  3.92     1065  \n",
      "1                   0.26     1.28       4.38  1.05  3.40     1050  \n",
      "2                   0.30     2.81       5.68  1.03  3.17     1185  \n",
      "3                   0.24     2.18       7.80  0.86  3.45     1480  \n",
      "4                   0.39     1.82       4.32  1.04  2.93      735  \n",
      "5                   0.34     1.97       6.75  1.05  2.85     1450  \n",
      "6                   0.30     1.98       5.25  1.02  3.58     1290  \n",
      "7                   0.31     1.25       5.05  1.06  3.58     1295  \n",
      "8                   0.29     1.98       5.20  1.08  2.85     1045  \n",
      "9                   0.22     1.85       7.22  1.01  3.55     1045  \n",
      "10                  0.22     2.38       5.75  1.25  3.17     1510  \n",
      "11                  0.26     1.57       5.00  1.17  2.82     1280  \n",
      "12                  0.29     1.81       5.60  1.15  2.90     1320  \n",
      "13                  0.43     2.81       5.40  1.25  2.73     1150  \n",
      "14                  0.29     2.96       7.50  1.20  3.00     1547  \n",
      "15                  0.30     1.46       7.30  1.28  2.88     1310  \n",
      "16                  0.33     1.97       6.20  1.07  2.65     1280  \n",
      "17                  0.40     1.72       6.60  1.13  2.57     1130  \n",
      "18                  0.32     1.86       8.70  1.23  2.82     1680  \n",
      "19                  0.17     1.66       5.10  0.96  3.36      845  \n",
      "20                  0.24     2.10       5.65  1.09  3.71      780  \n",
      "21                  0.25     1.98       4.50  1.03  3.52      770  \n",
      "22                  0.27     1.69       3.80  1.11  4.00     1035  \n",
      "23                  0.26     1.46       3.93  1.09  3.63     1015  \n",
      "24                  0.28     1.66       3.52  1.12  3.82      845  \n",
      "25                  0.47     1.92       3.58  1.13  3.20      830  \n",
      "26                  0.34     1.45       4.80  0.92  3.22     1195  \n",
      "27                  0.27     1.35       3.95  1.02  2.77     1285  \n",
      "28                  0.37     1.76       4.50  1.25  3.40      915  \n",
      "29                  0.26     1.98       4.70  1.04  3.59     1035  \n",
      "30                  0.29     2.38       5.70  1.19  2.71     1285  \n",
      "31                  0.22     1.95       6.90  1.09  2.88     1515  \n",
      "32                  0.42     1.97       3.84  1.23  2.87      990  \n",
      "33                  0.50     1.35       5.40  1.25  3.00     1235  \n",
      "34                  0.29     1.54       4.20  1.10  2.87     1095  \n",
      "35                  0.26     1.86       5.10  1.04  3.47      920  \n",
      "36                  0.34     1.36       4.60  1.09  2.78      880  \n",
      "37                  0.29     1.44       4.25  1.12  2.51     1105  \n",
      "38                  0.28     1.37       3.70  1.18  2.69     1020  \n",
      "39                  0.20     2.08       5.10  0.89  3.53      760  \n",
      "40                  0.34     2.34       6.13  0.95  3.38      795  \n",
      "41                  0.27     1.48       4.28  0.91  3.00     1035  \n",
      "42                  0.17     1.70       5.43  0.88  3.56     1095  \n",
      "43                  0.32     1.66       4.36  0.82  3.00      680  \n",
      "44                  0.28     2.03       5.04  0.88  3.35      885  \n",
      "45                  0.30     1.25       5.24  0.87  3.33     1080  \n",
      "46                  0.27     2.19       4.90  1.04  3.44     1065  \n",
      "47                  0.21     2.14       6.10  0.91  3.33      985  \n",
      "48                  0.32     2.38       6.20  1.07  2.75     1060  \n",
      "49                  0.32     2.08       8.90  1.12  3.10     1260  \n",
      "50                  0.17     2.91       7.20  1.12  2.91     1150  \n",
      "51                  0.22     2.29       5.60  1.24  3.37     1265  \n",
      "52                  0.32     1.87       7.05  1.01  3.26     1190  \n",
      "53                  0.39     1.68       6.30  1.13  2.93     1375  \n",
      "54                  0.21     1.62       5.85  0.92  3.20     1060  \n",
      "55                  0.20     2.45       6.25  0.98  3.03     1120  \n",
      "56                  0.26     2.03       6.38  0.94  3.31      970  \n",
      "57                  0.31     1.66       6.00  1.07  2.84     1270  \n",
      "58                  0.19     2.04       6.80  0.89  2.87     1285  \n",
      "2\n",
      "     Wine  Alcohol  Malic.acid   Ash   Acl   Mg  Phenols  Flavanoids  \\\n",
      "59      2    12.37        0.94  1.36  10.6   88     1.98        0.57   \n",
      "60      2    12.33        1.10  2.28  16.0  101     2.05        1.09   \n",
      "61      2    12.64        1.36  2.02  16.8  100     2.02        1.41   \n",
      "62      2    13.67        1.25  1.92  18.0   94     2.10        1.79   \n",
      "63      2    12.37        1.13  2.16  19.0   87     3.50        3.10   \n",
      "64      2    12.17        1.45  2.53  19.0  104     1.89        1.75   \n",
      "65      2    12.37        1.21  2.56  18.1   98     2.42        2.65   \n",
      "66      2    13.11        1.01  1.70  15.0   78     2.98        3.18   \n",
      "67      2    12.37        1.17  1.92  19.6   78     2.11        2.00   \n",
      "68      2    13.34        0.94  2.36  17.0  110     2.53        1.30   \n",
      "69      2    12.21        1.19  1.75  16.8  151     1.85        1.28   \n",
      "70      2    12.29        1.61  2.21  20.4  103     1.10        1.02   \n",
      "71      2    13.86        1.51  2.67  25.0   86     2.95        2.86   \n",
      "72      2    13.49        1.66  2.24  24.0   87     1.88        1.84   \n",
      "73      2    12.99        1.67  2.60  30.0  139     3.30        2.89   \n",
      "74      2    11.96        1.09  2.30  21.0  101     3.38        2.14   \n",
      "75      2    11.66        1.88  1.92  16.0   97     1.61        1.57   \n",
      "76      2    13.03        0.90  1.71  16.0   86     1.95        2.03   \n",
      "77      2    11.84        2.89  2.23  18.0  112     1.72        1.32   \n",
      "78      2    12.33        0.99  1.95  14.8  136     1.90        1.85   \n",
      "79      2    12.70        3.87  2.40  23.0  101     2.83        2.55   \n",
      "80      2    12.00        0.92  2.00  19.0   86     2.42        2.26   \n",
      "81      2    12.72        1.81  2.20  18.8   86     2.20        2.53   \n",
      "82      2    12.08        1.13  2.51  24.0   78     2.00        1.58   \n",
      "83      2    13.05        3.86  2.32  22.5   85     1.65        1.59   \n",
      "84      2    11.84        0.89  2.58  18.0   94     2.20        2.21   \n",
      "85      2    12.67        0.98  2.24  18.0   99     2.20        1.94   \n",
      "86      2    12.16        1.61  2.31  22.8   90     1.78        1.69   \n",
      "87      2    11.65        1.67  2.62  26.0   88     1.92        1.61   \n",
      "88      2    11.64        2.06  2.46  21.6   84     1.95        1.69   \n",
      "..    ...      ...         ...   ...   ...  ...      ...         ...   \n",
      "100     2    12.08        2.08  1.70  17.5   97     2.23        2.17   \n",
      "101     2    12.60        1.34  1.90  18.5   88     1.45        1.36   \n",
      "102     2    12.34        2.45  2.46  21.0   98     2.56        2.11   \n",
      "103     2    11.82        1.72  1.88  19.5   86     2.50        1.64   \n",
      "104     2    12.51        1.73  1.98  20.5   85     2.20        1.92   \n",
      "105     2    12.42        2.55  2.27  22.0   90     1.68        1.84   \n",
      "106     2    12.25        1.73  2.12  19.0   80     1.65        2.03   \n",
      "107     2    12.72        1.75  2.28  22.5   84     1.38        1.76   \n",
      "108     2    12.22        1.29  1.94  19.0   92     2.36        2.04   \n",
      "109     2    11.61        1.35  2.70  20.0   94     2.74        2.92   \n",
      "110     2    11.46        3.74  1.82  19.5  107     3.18        2.58   \n",
      "111     2    12.52        2.43  2.17  21.0   88     2.55        2.27   \n",
      "112     2    11.76        2.68  2.92  20.0  103     1.75        2.03   \n",
      "113     2    11.41        0.74  2.50  21.0   88     2.48        2.01   \n",
      "114     2    12.08        1.39  2.50  22.5   84     2.56        2.29   \n",
      "115     2    11.03        1.51  2.20  21.5   85     2.46        2.17   \n",
      "116     2    11.82        1.47  1.99  20.8   86     1.98        1.60   \n",
      "117     2    12.42        1.61  2.19  22.5  108     2.00        2.09   \n",
      "118     2    12.77        3.43  1.98  16.0   80     1.63        1.25   \n",
      "119     2    12.00        3.43  2.00  19.0   87     2.00        1.64   \n",
      "120     2    11.45        2.40  2.42  20.0   96     2.90        2.79   \n",
      "121     2    11.56        2.05  3.23  28.5  119     3.18        5.08   \n",
      "122     2    12.42        4.43  2.73  26.5  102     2.20        2.13   \n",
      "123     2    13.05        5.80  2.13  21.5   86     2.62        2.65   \n",
      "124     2    11.87        4.31  2.39  21.0   82     2.86        3.03   \n",
      "125     2    12.07        2.16  2.17  21.0   85     2.60        2.65   \n",
      "126     2    12.43        1.53  2.29  21.5   86     2.74        3.15   \n",
      "127     2    11.79        2.13  2.78  28.5   92     2.13        2.24   \n",
      "128     2    12.37        1.63  2.30  24.5   88     2.22        2.45   \n",
      "129     2    12.04        4.30  2.38  22.0   80     2.10        1.75   \n",
      "\n",
      "     Nonflavanoid.phenols  Proanth  Color.int    Hue    OD  Proline  \n",
      "59                   0.28     0.42       1.95  1.050  1.82      520  \n",
      "60                   0.63     0.41       3.27  1.250  1.67      680  \n",
      "61                   0.53     0.62       5.75  0.980  1.59      450  \n",
      "62                   0.32     0.73       3.80  1.230  2.46      630  \n",
      "63                   0.19     1.87       4.45  1.220  2.87      420  \n",
      "64                   0.45     1.03       2.95  1.450  2.23      355  \n",
      "65                   0.37     2.08       4.60  1.190  2.30      678  \n",
      "66                   0.26     2.28       5.30  1.120  3.18      502  \n",
      "67                   0.27     1.04       4.68  1.120  3.48      510  \n",
      "68                   0.55     0.42       3.17  1.020  1.93      750  \n",
      "69                   0.14     2.50       2.85  1.280  3.07      718  \n",
      "70                   0.37     1.46       3.05  0.906  1.82      870  \n",
      "71                   0.21     1.87       3.38  1.360  3.16      410  \n",
      "72                   0.27     1.03       3.74  0.980  2.78      472  \n",
      "73                   0.21     1.96       3.35  1.310  3.50      985  \n",
      "74                   0.13     1.65       3.21  0.990  3.13      886  \n",
      "75                   0.34     1.15       3.80  1.230  2.14      428  \n",
      "76                   0.24     1.46       4.60  1.190  2.48      392  \n",
      "77                   0.43     0.95       2.65  0.960  2.52      500  \n",
      "78                   0.35     2.76       3.40  1.060  2.31      750  \n",
      "79                   0.43     1.95       2.57  1.190  3.13      463  \n",
      "80                   0.30     1.43       2.50  1.380  3.12      278  \n",
      "81                   0.26     1.77       3.90  1.160  3.14      714  \n",
      "82                   0.40     1.40       2.20  1.310  2.72      630  \n",
      "83                   0.61     1.62       4.80  0.840  2.01      515  \n",
      "84                   0.22     2.35       3.05  0.790  3.08      520  \n",
      "85                   0.30     1.46       2.62  1.230  3.16      450  \n",
      "86                   0.43     1.56       2.45  1.330  2.26      495  \n",
      "87                   0.40     1.34       2.60  1.360  3.21      562  \n",
      "88                   0.48     1.35       2.80  1.000  2.75      680  \n",
      "..                    ...      ...        ...    ...   ...      ...  \n",
      "100                  0.26     1.40       3.30  1.270  2.96      710  \n",
      "101                  0.29     1.35       2.45  1.040  2.77      562  \n",
      "102                  0.34     1.31       2.80  0.800  3.38      438  \n",
      "103                  0.37     1.42       2.06  0.940  2.44      415  \n",
      "104                  0.32     1.48       2.94  1.040  3.57      672  \n",
      "105                  0.66     1.42       2.70  0.860  3.30      315  \n",
      "106                  0.37     1.63       3.40  1.000  3.17      510  \n",
      "107                  0.48     1.63       3.30  0.880  2.42      488  \n",
      "108                  0.39     2.08       2.70  0.860  3.02      312  \n",
      "109                  0.29     2.49       2.65  0.960  3.26      680  \n",
      "110                  0.24     3.58       2.90  0.750  2.81      562  \n",
      "111                  0.26     1.22       2.00  0.900  2.78      325  \n",
      "112                  0.60     1.05       3.80  1.230  2.50      607  \n",
      "113                  0.42     1.44       3.08  1.100  2.31      434  \n",
      "114                  0.43     1.04       2.90  0.930  3.19      385  \n",
      "115                  0.52     2.01       1.90  1.710  2.87      407  \n",
      "116                  0.30     1.53       1.95  0.950  3.33      495  \n",
      "117                  0.34     1.61       2.06  1.060  2.96      345  \n",
      "118                  0.43     0.83       3.40  0.700  2.12      372  \n",
      "119                  0.37     1.87       1.28  0.930  3.05      564  \n",
      "120                  0.32     1.83       3.25  0.800  3.39      625  \n",
      "121                  0.47     1.87       6.00  0.930  3.69      465  \n",
      "122                  0.43     1.71       2.08  0.920  3.12      365  \n",
      "123                  0.30     2.01       2.60  0.730  3.10      380  \n",
      "124                  0.21     2.91       2.80  0.750  3.64      380  \n",
      "125                  0.37     1.35       2.76  0.860  3.28      378  \n",
      "126                  0.39     1.77       3.94  0.690  2.84      352  \n",
      "127                  0.58     1.76       3.00  0.970  2.44      466  \n",
      "128                  0.40     1.90       2.12  0.890  2.78      342  \n",
      "129                  0.42     1.35       2.60  0.790  2.57      580  \n",
      "\n",
      "[71 rows x 14 columns]\n",
      "3\n",
      "     Wine  Alcohol  Malic.acid   Ash   Acl   Mg  Phenols  Flavanoids  \\\n",
      "130     3    12.86        1.35  2.32  18.0  122     1.51        1.25   \n",
      "131     3    12.88        2.99  2.40  20.0  104     1.30        1.22   \n",
      "132     3    12.81        2.31  2.40  24.0   98     1.15        1.09   \n",
      "133     3    12.70        3.55  2.36  21.5  106     1.70        1.20   \n",
      "134     3    12.51        1.24  2.25  17.5   85     2.00        0.58   \n",
      "135     3    12.60        2.46  2.20  18.5   94     1.62        0.66   \n",
      "136     3    12.25        4.72  2.54  21.0   89     1.38        0.47   \n",
      "137     3    12.53        5.51  2.64  25.0   96     1.79        0.60   \n",
      "138     3    13.49        3.59  2.19  19.5   88     1.62        0.48   \n",
      "139     3    12.84        2.96  2.61  24.0  101     2.32        0.60   \n",
      "140     3    12.93        2.81  2.70  21.0   96     1.54        0.50   \n",
      "141     3    13.36        2.56  2.35  20.0   89     1.40        0.50   \n",
      "142     3    13.52        3.17  2.72  23.5   97     1.55        0.52   \n",
      "143     3    13.62        4.95  2.35  20.0   92     2.00        0.80   \n",
      "144     3    12.25        3.88  2.20  18.5  112     1.38        0.78   \n",
      "145     3    13.16        3.57  2.15  21.0  102     1.50        0.55   \n",
      "146     3    13.88        5.04  2.23  20.0   80     0.98        0.34   \n",
      "147     3    12.87        4.61  2.48  21.5   86     1.70        0.65   \n",
      "148     3    13.32        3.24  2.38  21.5   92     1.93        0.76   \n",
      "149     3    13.08        3.90  2.36  21.5  113     1.41        1.39   \n",
      "150     3    13.50        3.12  2.62  24.0  123     1.40        1.57   \n",
      "151     3    12.79        2.67  2.48  22.0  112     1.48        1.36   \n",
      "152     3    13.11        1.90  2.75  25.5  116     2.20        1.28   \n",
      "153     3    13.23        3.30  2.28  18.5   98     1.80        0.83   \n",
      "154     3    12.58        1.29  2.10  20.0  103     1.48        0.58   \n",
      "155     3    13.17        5.19  2.32  22.0   93     1.74        0.63   \n",
      "156     3    13.84        4.12  2.38  19.5   89     1.80        0.83   \n",
      "157     3    12.45        3.03  2.64  27.0   97     1.90        0.58   \n",
      "158     3    14.34        1.68  2.70  25.0   98     2.80        1.31   \n",
      "159     3    13.48        1.67  2.64  22.5   89     2.60        1.10   \n",
      "160     3    12.36        3.83  2.38  21.0   88     2.30        0.92   \n",
      "161     3    13.69        3.26  2.54  20.0  107     1.83        0.56   \n",
      "162     3    12.85        3.27  2.58  22.0  106     1.65        0.60   \n",
      "163     3    12.96        3.45  2.35  18.5  106     1.39        0.70   \n",
      "164     3    13.78        2.76  2.30  22.0   90     1.35        0.68   \n",
      "165     3    13.73        4.36  2.26  22.5   88     1.28        0.47   \n",
      "166     3    13.45        3.70  2.60  23.0  111     1.70        0.92   \n",
      "167     3    12.82        3.37  2.30  19.5   88     1.48        0.66   \n",
      "168     3    13.58        2.58  2.69  24.5  105     1.55        0.84   \n",
      "169     3    13.40        4.60  2.86  25.0  112     1.98        0.96   \n",
      "170     3    12.20        3.03  2.32  19.0   96     1.25        0.49   \n",
      "171     3    12.77        2.39  2.28  19.5   86     1.39        0.51   \n",
      "172     3    14.16        2.51  2.48  20.0   91     1.68        0.70   \n",
      "173     3    13.71        5.65  2.45  20.5   95     1.68        0.61   \n",
      "174     3    13.40        3.91  2.48  23.0  102     1.80        0.75   \n",
      "175     3    13.27        4.28  2.26  20.0  120     1.59        0.69   \n",
      "176     3    13.17        2.59  2.37  20.0  120     1.65        0.68   \n",
      "177     3    14.13        4.10  2.74  24.5   96     2.05        0.76   \n",
      "\n",
      "     Nonflavanoid.phenols  Proanth  Color.int   Hue    OD  Proline  \n",
      "130                  0.21     0.94   4.100000  0.76  1.29      630  \n",
      "131                  0.24     0.83   5.400000  0.74  1.42      530  \n",
      "132                  0.27     0.83   5.700000  0.66  1.36      560  \n",
      "133                  0.17     0.84   5.000000  0.78  1.29      600  \n",
      "134                  0.60     1.25   5.450000  0.75  1.51      650  \n",
      "135                  0.63     0.94   7.100000  0.73  1.58      695  \n",
      "136                  0.53     0.80   3.850000  0.75  1.27      720  \n",
      "137                  0.63     1.10   5.000000  0.82  1.69      515  \n",
      "138                  0.58     0.88   5.700000  0.81  1.82      580  \n",
      "139                  0.53     0.81   4.920000  0.89  2.15      590  \n",
      "140                  0.53     0.75   4.600000  0.77  2.31      600  \n",
      "141                  0.37     0.64   5.600000  0.70  2.47      780  \n",
      "142                  0.50     0.55   4.350000  0.89  2.06      520  \n",
      "143                  0.47     1.02   4.400000  0.91  2.05      550  \n",
      "144                  0.29     1.14   8.210000  0.65  2.00      855  \n",
      "145                  0.43     1.30   4.000000  0.60  1.68      830  \n",
      "146                  0.40     0.68   4.900000  0.58  1.33      415  \n",
      "147                  0.47     0.86   7.650000  0.54  1.86      625  \n",
      "148                  0.45     1.25   8.420000  0.55  1.62      650  \n",
      "149                  0.34     1.14   9.400000  0.57  1.33      550  \n",
      "150                  0.22     1.25   8.600000  0.59  1.30      500  \n",
      "151                  0.24     1.26  10.800000  0.48  1.47      480  \n",
      "152                  0.26     1.56   7.100000  0.61  1.33      425  \n",
      "153                  0.61     1.87  10.520000  0.56  1.51      675  \n",
      "154                  0.53     1.40   7.600000  0.58  1.55      640  \n",
      "155                  0.61     1.55   7.900000  0.60  1.48      725  \n",
      "156                  0.48     1.56   9.010000  0.57  1.64      480  \n",
      "157                  0.63     1.14   7.500000  0.67  1.73      880  \n",
      "158                  0.53     2.70  13.000000  0.57  1.96      660  \n",
      "159                  0.52     2.29  11.750000  0.57  1.78      620  \n",
      "160                  0.50     1.04   7.650000  0.56  1.58      520  \n",
      "161                  0.50     0.80   5.880000  0.96  1.82      680  \n",
      "162                  0.60     0.96   5.580000  0.87  2.11      570  \n",
      "163                  0.40     0.94   5.280000  0.68  1.75      675  \n",
      "164                  0.41     1.03   9.580000  0.70  1.68      615  \n",
      "165                  0.52     1.15   6.620000  0.78  1.75      520  \n",
      "166                  0.43     1.46  10.680000  0.85  1.56      695  \n",
      "167                  0.40     0.97  10.260000  0.72  1.75      685  \n",
      "168                  0.39     1.54   8.660000  0.74  1.80      750  \n",
      "169                  0.27     1.11   8.500000  0.67  1.92      630  \n",
      "170                  0.40     0.73   5.500000  0.66  1.83      510  \n",
      "171                  0.48     0.64   9.899999  0.57  1.63      470  \n",
      "172                  0.44     1.24   9.700000  0.62  1.71      660  \n",
      "173                  0.52     1.06   7.700000  0.64  1.74      740  \n",
      "174                  0.43     1.41   7.300000  0.70  1.56      750  \n",
      "175                  0.43     1.35  10.200000  0.59  1.56      835  \n",
      "176                  0.53     1.46   9.300000  0.60  1.62      840  \n",
      "177                  0.56     1.35   9.200000  0.61  1.60      560  \n"
     ]
    }
   ],
   "source": [
    "for i,j in a:\n",
    "    print(i)\n",
    "    print(j)"
   ]
  },
  {
   "cell_type": "markdown",
   "metadata": {},
   "source": [
    "Data Visulaisation :"
   ]
  },
  {
   "cell_type": "code",
   "execution_count": 7,
   "metadata": {},
   "outputs": [],
   "source": [
    "x=data[\"Alcohol\"].tolist()"
   ]
  },
  {
   "cell_type": "code",
   "execution_count": 8,
   "metadata": {},
   "outputs": [],
   "source": [
    "Y=data[\"Phenols\"].tolist()"
   ]
  },
  {
   "cell_type": "code",
   "execution_count": 9,
   "metadata": {},
   "outputs": [
    {
     "data": {
      "text/plain": [
       "Text(0.5,1,'Relation between Alcohol and Phenols ')"
      ]
     },
     "execution_count": 9,
     "metadata": {},
     "output_type": "execute_result"
    },
    {
     "data": {
      "image/png": "[encoded data removed]",
      "text/plain": [
       "<Figure size 432x288 with 1 Axes>"
      ]
     },
     "metadata": {
      "needs_background": "light"
     },
     "output_type": "display_data"
    }
   ],
   "source": [
    "plt.scatter(x,Y)\n",
    "plt.xlabel(\"Alcohol\")\n",
    "plt.ylabel(\"Phenols\")\n",
    "plt.title(\"Relation between Alcohol and Phenols \")"
   ]
  },
  {
   "cell_type": "markdown",
   "metadata": {},
   "source": [
    "Data Pereperation :"
   ]
  },
  {
   "cell_type": "code",
   "execution_count": 10,
   "metadata": {},
   "outputs": [],
   "source": [
    "X=data.drop([\"Wine\"],axis=\"columns\")"
   ]
  },
  {
   "cell_type": "code",
   "execution_count": 11,
   "metadata": {},
   "outputs": [
    {
     "data": {
      "text/html": [
       "<div>\n",
       "<style scoped>\n",
       "    .dataframe tbody tr th:only-of-type {\n",
       "        vertical-align: middle;\n",
       "    }\n",
       "\n",
       "    .dataframe tbody tr th {\n",
       "        vertical-align: top;\n",
       "    }\n",
       "\n",
       "    .dataframe thead th {\n",
       "        text-align: right;\n",
       "    }\n",
       "</style>\n",
       "<table border=\"1\" class=\"dataframe\">\n",
       "  <thead>\n",
       "    <tr style=\"text-align: right;\">\n",
       "      <th></th>\n",
       "      <th>Alcohol</th>\n",
       "      <th>Malic.acid</th>\n",
       "      <th>Ash</th>\n",
       "      <th>Acl</th>\n",
       "      <th>Mg</th>\n",
       "      <th>Phenols</th>\n",
       "      <th>Flavanoids</th>\n",
       "      <th>Nonflavanoid.phenols</th>\n",
       "      <th>Proanth</th>\n",
       "      <th>Color.int</th>\n",
       "      <th>Hue</th>\n",
       "      <th>OD</th>\n",
       "      <th>Proline</th>\n",
       "    </tr>\n",
       "  </thead>\n",
       "  <tbody>\n",
       "    <tr>\n",
       "      <th>0</th>\n",
       "      <td>14.23</td>\n",
       "      <td>1.71</td>\n",
       "      <td>2.43</td>\n",
       "      <td>15.6</td>\n",
       "      <td>127</td>\n",
       "      <td>2.80</td>\n",
       "      <td>3.06</td>\n",
       "      <td>0.28</td>\n",
       "      <td>2.29</td>\n",
       "      <td>5.64</td>\n",
       "      <td>1.04</td>\n",
       "      <td>3.92</td>\n",
       "      <td>1065</td>\n",
       "    </tr>\n",
       "    <tr>\n",
       "      <th>1</th>\n",
       "      <td>13.20</td>\n",
       "      <td>1.78</td>\n",
       "      <td>2.14</td>\n",
       "      <td>11.2</td>\n",
       "      <td>100</td>\n",
       "      <td>2.65</td>\n",
       "      <td>2.76</td>\n",
       "      <td>0.26</td>\n",
       "      <td>1.28</td>\n",
       "      <td>4.38</td>\n",
       "      <td>1.05</td>\n",
       "      <td>3.40</td>\n",
       "      <td>1050</td>\n",
       "    </tr>\n",
       "    <tr>\n",
       "      <th>2</th>\n",
       "      <td>13.16</td>\n",
       "      <td>2.36</td>\n",
       "      <td>2.67</td>\n",
       "      <td>18.6</td>\n",
       "      <td>101</td>\n",
       "      <td>2.80</td>\n",
       "      <td>3.24</td>\n",
       "      <td>0.30</td>\n",
       "      <td>2.81</td>\n",
       "      <td>5.68</td>\n",
       "      <td>1.03</td>\n",
       "      <td>3.17</td>\n",
       "      <td>1185</td>\n",
       "    </tr>\n",
       "    <tr>\n",
       "      <th>3</th>\n",
       "      <td>14.37</td>\n",
       "      <td>1.95</td>\n",
       "      <td>2.50</td>\n",
       "      <td>16.8</td>\n",
       "      <td>113</td>\n",
       "      <td>3.85</td>\n",
       "      <td>3.49</td>\n",
       "      <td>0.24</td>\n",
       "      <td>2.18</td>\n",
       "      <td>7.80</td>\n",
       "      <td>0.86</td>\n",
       "      <td>3.45</td>\n",
       "      <td>1480</td>\n",
       "    </tr>\n",
       "    <tr>\n",
       "      <th>4</th>\n",
       "      <td>13.24</td>\n",
       "      <td>2.59</td>\n",
       "      <td>2.87</td>\n",
       "      <td>21.0</td>\n",
       "      <td>118</td>\n",
       "      <td>2.80</td>\n",
       "      <td>2.69</td>\n",
       "      <td>0.39</td>\n",
       "      <td>1.82</td>\n",
       "      <td>4.32</td>\n",
       "      <td>1.04</td>\n",
       "      <td>2.93</td>\n",
       "      <td>735</td>\n",
       "    </tr>\n",
       "  </tbody>\n",
       "</table>\n",
       "</div>"
      ],
      "text/plain": [
       "   Alcohol  Malic.acid   Ash   Acl   Mg  Phenols  Flavanoids  \\\n",
       "0    14.23        1.71  2.43  15.6  127     2.80        3.06   \n",
       "1    13.20        1.78  2.14  11.2  100     2.65        2.76   \n",
       "2    13.16        2.36  2.67  18.6  101     2.80        3.24   \n",
       "3    14.37        1.95  2.50  16.8  113     3.85        3.49   \n",
       "4    13.24        2.59  2.87  21.0  118     2.80        2.69   \n",
       "\n",
       "   Nonflavanoid.phenols  Proanth  Color.int   Hue    OD  Proline  \n",
       "0                  0.28     2.29       5.64  1.04  3.92     1065  \n",
       "1                  0.26     1.28       4.38  1.05  3.40     1050  \n",
       "2                  0.30     2.81       5.68  1.03  3.17     1185  \n",
       "3                  0.24     2.18       7.80  0.86  3.45     1480  \n",
       "4                  0.39     1.82       4.32  1.04  2.93      735  "
      ]
     },
     "execution_count": 11,
     "metadata": {},
     "output_type": "execute_result"
    }
   ],
   "source": [
    "X.head()"
   ]
  },
  {
   "cell_type": "code",
   "execution_count": 12,
   "metadata": {},
   "outputs": [],
   "source": [
    "y=data[\"Wine\"]"
   ]
  },
  {
   "cell_type": "code",
   "execution_count": 13,
   "metadata": {},
   "outputs": [
    {
     "data": {
      "text/plain": [
       "0    1\n",
       "1    1\n",
       "2    1\n",
       "3    1\n",
       "4    1\n",
       "Name: Wine, dtype: int64"
      ]
     },
     "execution_count": 13,
     "metadata": {},
     "output_type": "execute_result"
    }
   ],
   "source": [
    "y.head()"
   ]
  },
  {
   "cell_type": "code",
   "execution_count": 14,
   "metadata": {},
   "outputs": [
    {
     "name": "stderr",
     "output_type": "stream",
     "text": [
      "c:\\users\\lenovo\\appdata\\local\\programs\\python\\python37-32\\lib\\site-packages\\sklearn\\model_selection\\_split.py:2069: FutureWarning: From version 0.21, test_size will always complement train_size unless both are specified.\n",
      "  FutureWarning)\n"
     ]
    }
   ],
   "source": [
    "X_train,X_test,y_train,y_test=tt(X,y,train_size=0.9)"
   ]
  },
  {
   "cell_type": "code",
   "execution_count": 15,
   "metadata": {},
   "outputs": [
    {
     "data": {
      "text/plain": [
       "(160,)"
      ]
     },
     "execution_count": 15,
     "metadata": {},
     "output_type": "execute_result"
    }
   ],
   "source": [
    "y_train.shape"
   ]
  },
  {
   "cell_type": "code",
   "execution_count": 16,
   "metadata": {},
   "outputs": [
    {
     "data": {
      "text/plain": [
       "(160, 13)"
      ]
     },
     "execution_count": 16,
     "metadata": {},
     "output_type": "execute_result"
    }
   ],
   "source": [
    "X_train.shape"
   ]
  },
  {
   "cell_type": "markdown",
   "metadata": {},
   "source": [
    "Model Training :"
   ]
  },
  {
   "cell_type": "code",
   "execution_count": 28,
   "metadata": {},
   "outputs": [],
   "source": [
    "clf=RandomForestClassifier(n_estimators=10)"
   ]
  },
  {
   "cell_type": "code",
   "execution_count": 29,
   "metadata": {},
   "outputs": [
    {
     "data": {
      "text/plain": [
       "RandomForestClassifier(bootstrap=True, class_weight=None, criterion='gini',\n",
       "            max_depth=None, max_features='auto', max_leaf_nodes=None,\n",
       "            min_impurity_decrease=0.0, min_impurity_split=None,\n",
       "            min_samples_leaf=1, min_samples_split=2,\n",
       "            min_weight_fraction_leaf=0.0, n_estimators=10, n_jobs=None,\n",
       "            oob_score=False, random_state=None, verbose=0,\n",
       "            warm_start=False)"
      ]
     },
     "execution_count": 29,
     "metadata": {},
     "output_type": "execute_result"
    }
   ],
   "source": [
    "clf.fit(X_train,y_train)"
   ]
  },
  {
   "cell_type": "code",
   "execution_count": 30,
   "metadata": {},
   "outputs": [],
   "source": [
    "y_pred=clf.predict(X_test)"
   ]
  },
  {
   "cell_type": "code",
   "execution_count": 31,
   "metadata": {},
   "outputs": [],
   "source": [
    "score=metrics.accuracy_score(y_test,y_pred)"
   ]
  },
  {
   "cell_type": "code",
   "execution_count": 32,
   "metadata": {},
   "outputs": [
    {
     "data": {
      "text/plain": [
       "1.0"
      ]
     },
     "execution_count": 32,
     "metadata": {},
     "output_type": "execute_result"
    }
   ],
   "source": [
    "score"
   ]
  },
  {
   "cell_type": "code",
   "execution_count": 35,
   "metadata": {},
   "outputs": [
    {
     "name": "stdout",
     "output_type": "stream",
     "text": [
      "The accuracy of the predicted result is 100.0 %\n"
     ]
    }
   ],
   "source": [
    "print(\"The accuracy of the predicted result is {} %\".format(score*100))"
   ]
  },
  {
   "cell_type": "code",
   "execution_count": 36,
   "metadata": {},
   "outputs": [
    {
     "data": {
      "text/plain": [
       "array([1], dtype=int64)"
      ]
     },
     "execution_count": 36,
     "metadata": {},
     "output_type": "execute_result"
    }
   ],
   "source": [
    "clf.predict(np.array([14.37,1.95,2.50,16.8,113,3.85,3.49,0.24,2.18,7.80,0.86,3.45,1480]).reshape(1,-1))"
   ]
  },
  {
   "cell_type": "code",
   "execution_count": null,
   "metadata": {},
   "outputs": [],
   "source": []
  },
  {
   "cell_type": "code",
   "execution_count": null,
   "metadata": {},
   "outputs": [],
   "source": []
  }
 ],
 "metadata": {
  "kernelspec": {
   "display_name": "Python 3",
   "language": "python",
   "name": "python3"
  },
  "language_info": {
   "codemirror_mode": {
    "name": "ipython",
    "version": 3
   },
   "file_extension": ".py",
   "mimetype": "text/x-python",
   "name": "python",
   "nbconvert_exporter": "python",
   "pygments_lexer": "ipython3",
   "version": "3.7.0"
  }
 },
 "nbformat": 4,
 "nbformat_minor": 2
}
